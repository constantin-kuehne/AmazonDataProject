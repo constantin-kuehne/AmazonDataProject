{
 "cells": [
  {
   "cell_type": "code",
   "execution_count": 7,
   "id": "c4aa0b59",
   "metadata": {},
   "outputs": [],
   "source": [
    "import os\n",
    "import elasticsearch as es\n",
    "from dotenv import load_dotenv"
   ]
  },
  {
   "cell_type": "code",
   "execution_count": 8,
   "id": "32c15630",
   "metadata": {},
   "outputs": [
    {
     "data": {
      "text/plain": [
       "True"
      ]
     },
     "execution_count": 8,
     "metadata": {},
     "output_type": "execute_result"
    }
   ],
   "source": [
    "load_dotenv()"
   ]
  },
  {
   "cell_type": "code",
   "execution_count": 9,
   "id": "b52972dc",
   "metadata": {},
   "outputs": [],
   "source": [
    "username = os.getenv(\"USERNAME\")\n",
    "password = os.getenv(\"PASSWORD\")\n",
    "client = es.Elasticsearch(\"http://10.11.12.69:9200\", http_auth=(username, password))"
   ]
  },
  {
   "cell_type": "code",
   "execution_count": 10,
   "id": "efda28ac",
   "metadata": {},
   "outputs": [
    {
     "data": {
      "text/plain": [
       "True"
      ]
     },
     "execution_count": 10,
     "metadata": {},
     "output_type": "execute_result"
    }
   ],
   "source": [
    "client.ping()"
   ]
  },
  {
   "cell_type": "code",
   "execution_count": 11,
   "id": "46ef1bc8",
   "metadata": {},
   "outputs": [
    {
     "name": "stderr",
     "output_type": "stream",
     "text": [
      "/usr/local/Caskroom/miniconda/base/envs/ADP/lib/python3.9/site-packages/elasticsearch/connection/base.py:209: ElasticsearchWarning: this request accesses system indices: [.security-7, .kibana_7.15.1_001, .async-search, .kibana_security_session_1, .apm-agent-configuration, .apm-custom-link, .fleet-policies-7, .tasks, .kibana_task_manager_7.15.1_001], but in a future major version, direct access to system indices will be prevented by default\n",
      "  warnings.warn(message, category=ElasticsearchWarning)\n",
      "/usr/local/Caskroom/miniconda/base/envs/ADP/lib/python3.9/site-packages/elasticsearch/connection/base.py:209: ElasticsearchWarning: this request accesses aliases with names reserved for system indices: [.kibana_task_manager_7.15.1, .kibana_7.15.1, .kibana_task_manager, .security, .kibana, .fleet-policies], but in a future major version, direct access to system indices and their aliases will not be allowed\n",
      "  warnings.warn(message, category=ElasticsearchWarning)\n"
     ]
    },
    {
     "data": {
      "text/plain": [
       "{'.security-7': {'aliases': {'.security': {}}},\n",
       " 'kibana_sample_data_logs': {'aliases': {}},\n",
       " '.monitoring-kibana-7-2021.11.21': {'aliases': {}},\n",
       " '.kibana_7.15.1_001': {'aliases': {'.kibana': {}, '.kibana_7.15.1': {}}},\n",
       " 'logstash-2021.11.08-000001': {'aliases': {'logstash': {'is_write_index': True}}},\n",
       " 'kibana_sample_data_flights': {'aliases': {}},\n",
       " '.async-search': {'aliases': {}},\n",
       " '.monitoring-logstash-7-2021.11.20': {'aliases': {}},\n",
       " '.kibana_security_session_1': {'aliases': {}},\n",
       " '.apm-agent-configuration': {'aliases': {}},\n",
       " '.monitoring-es-7-2021.11.20': {'aliases': {}},\n",
       " '.apm-custom-link': {'aliases': {}},\n",
       " '.monitoring-es-7-2021.11.17': {'aliases': {}},\n",
       " '.monitoring-es-7-2021.11.24': {'aliases': {}},\n",
       " '.monitoring-logstash-7-2021.11.23': {'aliases': {}},\n",
       " 'students_kismet_devices': {'aliases': {}},\n",
       " '.monitoring-kibana-7-2021.11.23': {'aliases': {}},\n",
       " '.monitoring-kibana-7-2021.11.17': {'aliases': {}},\n",
       " '.monitoring-kibana-7-2021.11.18': {'aliases': {}},\n",
       " '.fleet-policies-7': {'aliases': {'.fleet-policies': {}}},\n",
       " '.monitoring-logstash-7-2021.11.24': {'aliases': {}},\n",
       " '.monitoring-es-7-2021.11.23': {'aliases': {}},\n",
       " '.tasks': {'aliases': {}},\n",
       " '.monitoring-logstash-7-2021.11.22': {'aliases': {}},\n",
       " 'constantin_amazondataproject': {'aliases': {}},\n",
       " '.monitoring-es-7-2021.11.21': {'aliases': {}},\n",
       " '.monitoring-kibana-7-2021.11.22': {'aliases': {}},\n",
       " '.monitoring-kibana-7-2021.11.20': {'aliases': {}},\n",
       " 'haussner_kismet_devices': {'aliases': {}},\n",
       " '.kibana_task_manager_7.15.1_001': {'aliases': {'.kibana_task_manager': {},\n",
       "   '.kibana_task_manager_7.15.1': {}}},\n",
       " '.monitoring-logstash-7-2021.11.21': {'aliases': {}},\n",
       " '.kibana-event-log-7.15.1-000001': {'aliases': {'.kibana-event-log-7.15.1': {'is_write_index': True}}},\n",
       " '.monitoring-es-7-2021.11.18': {'aliases': {}},\n",
       " '.monitoring-kibana-7-2021.11.24': {'aliases': {}},\n",
       " '.monitoring-logstash-7-2021.11.17': {'aliases': {}},\n",
       " '.monitoring-es-7-2021.11.22': {'aliases': {}},\n",
       " 'kibana_sample_data_ecommerce': {'aliases': {}},\n",
       " 'our_house': {'aliases': {}}}"
      ]
     },
     "execution_count": 11,
     "metadata": {},
     "output_type": "execute_result"
    }
   ],
   "source": [
    "client.indices.get_alias()"
   ]
  },
  {
   "cell_type": "code",
   "execution_count": 12,
   "id": "f413eb2e",
   "metadata": {},
   "outputs": [],
   "source": [
    "index_name = \"constantin_amazondataproject_v2\""
   ]
  },
  {
   "cell_type": "code",
   "execution_count": 13,
   "id": "5d96faf2",
   "metadata": {},
   "outputs": [
    {
     "data": {
      "text/plain": [
       "{'acknowledged': True,\n",
       " 'shards_acknowledged': True,\n",
       " 'index': 'constantin_amazondataproject_v2'}"
      ]
     },
     "execution_count": 13,
     "metadata": {},
     "output_type": "execute_result"
    }
   ],
   "source": [
    "client.indices.create(index=index_name)"
   ]
  },
  {
   "cell_type": "code",
   "execution_count": 14,
   "id": "897fa0e9",
   "metadata": {},
   "outputs": [
    {
     "data": {
      "text/plain": [
       "{'took': 0,\n",
       " 'timed_out': False,\n",
       " '_shards': {'total': 1, 'successful': 1, 'skipped': 0, 'failed': 0},\n",
       " 'hits': {'total': {'value': 0, 'relation': 'eq'},\n",
       "  'max_score': None,\n",
       "  'hits': []}}"
      ]
     },
     "execution_count": 14,
     "metadata": {},
     "output_type": "execute_result"
    }
   ],
   "source": [
    "client.search(index=index_name, query={\"match_all\": {}})"
   ]
  },
  {
   "cell_type": "code",
   "execution_count": 15,
   "id": "b1fcc483",
   "metadata": {},
   "outputs": [],
   "source": [
    "import pandas as pd"
   ]
  },
  {
   "cell_type": "code",
   "execution_count": 16,
   "id": "61603567",
   "metadata": {},
   "outputs": [],
   "source": [
    "import csv\n",
    "import numpy as np"
   ]
  },
  {
   "cell_type": "code",
   "execution_count": 17,
   "id": "d9d3d32c",
   "metadata": {},
   "outputs": [],
   "source": [
    "convert_to_bool = lambda x: True if x == \"Y\" else False\n",
    "converters = {\"vine\": convert_to_bool, \"verified_purchase\": convert_to_bool}"
   ]
  },
  {
   "cell_type": "code",
   "execution_count": 18,
   "id": "83d113d9",
   "metadata": {},
   "outputs": [],
   "source": [
    "dtypes = {\n",
    "    \"marketplace\": \"category\",\n",
    "    \"customer_id\": np.int64,\n",
    "    \"review_id\": \"object\",\n",
    "    \"product_id\": \"object\",\n",
    "    \"product_parent\": np.int64,\n",
    "    \"product_title\": \"object\",\n",
    "    \"star_rating\": np.int8,\n",
    "    \"helpful_votes\": np.int16,\n",
    "    \"total_votes\": np.int16,\n",
    "    \"review_headline\": \"object\",\n",
    "    \"review_body\": \"object\",\n",
    "}"
   ]
  },
  {
   "cell_type": "code",
   "execution_count": 19,
   "id": "b24f6e78",
   "metadata": {},
   "outputs": [],
   "source": [
    "def data_iterator(reader):\n",
    "        # need to remove when using csv.DictReader\n",
    "        for chunk in reader:\n",
    "            for _, row in chunk.iterrows():\n",
    "                doc = {\n",
    "                    \"marketplace\": row[\"marketplace\"],\n",
    "                    \"customer_id\": row[\"customer_id\"],\n",
    "                    \"review_id\": row[\"review_id\"],\n",
    "                    \"product_id\": row[\"product_id\"],\n",
    "                    \"product_parent\": row[\"product_parent\"],\n",
    "                    \"product_title\": row[\"product_title\"],\n",
    "                    \"product_category\": row[\"product_category\"],\n",
    "                    \"star_rating\": row[\"star_rating\"],\n",
    "                    \"helpful_votes\": row[\"helpful_votes\"],\n",
    "                    \"total_votes\": row[\"total_votes\"],\n",
    "                    \"vine\": row[\"vine\"],\n",
    "                    \"verified_purchase\": row[\"verified_purchase\"],\n",
    "                    \"review_headline\": row[\"review_headline\"],\n",
    "                    \"review_body\": row[\"review_body\"],\n",
    "                    \"review_date\": row[\"review_date\"],\n",
    "                }\n",
    "                yield doc"
   ]
  },
  {
   "cell_type": "code",
   "execution_count": 91,
   "id": "4476a17e",
   "metadata": {},
   "outputs": [
    {
     "data": {
      "text/plain": [
       "{'took': 7,\n",
       " 'timed_out': False,\n",
       " 'total': 98,\n",
       " 'deleted': 98,\n",
       " 'batches': 1,\n",
       " 'version_conflicts': 0,\n",
       " 'noops': 0,\n",
       " 'retries': {'bulk': 0, 'search': 0},\n",
       " 'throttled_millis': 0,\n",
       " 'requests_per_second': -1.0,\n",
       " 'throttled_until_millis': 0,\n",
       " 'failures': []}"
      ]
     },
     "execution_count": 91,
     "metadata": {},
     "output_type": "execute_result"
    }
   ],
   "source": [
    "client.delete_by_query(index=index_name, body={\"query\": {\"match_all\": {}}})"
   ]
  },
  {
   "cell_type": "code",
   "execution_count": 92,
   "id": "43c05ddf",
   "metadata": {},
   "outputs": [
    {
     "name": "stderr",
     "output_type": "stream",
     "text": [
      "/var/folders/ps/dgdwqdr11mq34k0cc13_s_940000gn/T/ipykernel_98250/4064195043.py:1: DeprecationWarning: Using positional arguments for APIs is deprecated and will be disabled in 8.0.0. Instead use only keyword arguments for all APIs. See https://github.com/elastic/elasticsearch-py/issues/1698 for more information\n",
      "  client.search({\"query\": {\"match_all\": {}}}, index=\"constantin_amazondataproject\")\n"
     ]
    },
    {
     "data": {
      "text/plain": [
       "{'took': 0,\n",
       " 'timed_out': False,\n",
       " '_shards': {'total': 1, 'successful': 1, 'skipped': 0, 'failed': 0},\n",
       " 'hits': {'total': {'value': 0, 'relation': 'eq'},\n",
       "  'max_score': None,\n",
       "  'hits': []}}"
      ]
     },
     "execution_count": 92,
     "metadata": {},
     "output_type": "execute_result"
    }
   ],
   "source": [
    "client.search({\"query\": {\"match_all\": {}}}, index=index_name)"
   ]
  },
  {
   "cell_type": "code",
   "execution_count": 20,
   "id": "b810b764",
   "metadata": {},
   "outputs": [
    {
     "ename": "BulkIndexError",
     "evalue": "('1 document(s) failed to index.', [{'index': {'_index': 'constantin_amazondataproject_v2', '_type': '_doc', '_id': 'NWNOUn0BVCy-8HZa6bPe', 'status': 400, 'error': {'type': 'mapper_parsing_exception', 'reason': 'failed to parse', 'caused_by': {'type': 'json_parse_exception', 'reason': \"Non-standard token 'NaN': enable JsonParser.Feature.ALLOW_NON_NUMERIC_NUMBERS to allow\\n at [Source: (ByteArrayInputStream); line: 1, column: 303]\"}}, 'data': {'marketplace': 'DE', 'customer_id': 29422633, 'review_id': 'R2MD4CKWIMSZFG', 'product_id': 'B000UTMPHC', 'product_parent': 285766066, 'product_title': 'Saw III (Unrated)', 'product_category': 'Video DVD', 'star_rating': 5, 'helpful_votes': 1, 'total_votes': 3, 'vine': False, 'verified_purchase': False, 'review_headline': nan, 'review_body': 'Hallo,  also ich freu mich schon auf die DVD von SAW 3 :)  Ist echt ein super Film mit viel gemetzel ...  und ja es gibt einen teil 4, gibt auch schon einen Trailer dazu.  Der Film soll zu Halloween in die US Kinos kommen. Teil 5 und 6 sind auch schon in planung also gibts noch viel gemetzel zu sehn *g*', 'review_date': Timestamp('2007-08-17 00:00:00')}}}])",
     "output_type": "error",
     "traceback": [
      "\u001b[0;31m---------------------------------------------------------------------------\u001b[0m",
      "\u001b[0;31mBulkIndexError\u001b[0m                            Traceback (most recent call last)",
      "\u001b[0;32m/var/folders/ps/dgdwqdr11mq34k0cc13_s_940000gn/T/ipykernel_26175/1333497471.py\u001b[0m in \u001b[0;36m<module>\u001b[0;34m\u001b[0m\n\u001b[1;32m     12\u001b[0m         \u001b[0mdtype\u001b[0m\u001b[0;34m=\u001b[0m\u001b[0mdtypes\u001b[0m\u001b[0;34m,\u001b[0m\u001b[0;34m\u001b[0m\u001b[0;34m\u001b[0m\u001b[0m\n\u001b[1;32m     13\u001b[0m     )\n\u001b[0;32m---> 14\u001b[0;31m     \u001b[0mres\u001b[0m \u001b[0;34m=\u001b[0m \u001b[0mbulk\u001b[0m\u001b[0;34m(\u001b[0m\u001b[0mclient\u001b[0m\u001b[0;34m=\u001b[0m\u001b[0mclient\u001b[0m\u001b[0;34m,\u001b[0m \u001b[0mindex\u001b[0m\u001b[0;34m=\u001b[0m\u001b[0mindex_name\u001b[0m\u001b[0;34m,\u001b[0m \u001b[0mactions\u001b[0m\u001b[0;34m=\u001b[0m\u001b[0mdata_iterator\u001b[0m\u001b[0;34m(\u001b[0m\u001b[0mreader\u001b[0m\u001b[0;34m)\u001b[0m\u001b[0;34m)\u001b[0m\u001b[0;34m\u001b[0m\u001b[0;34m\u001b[0m\u001b[0m\n\u001b[0m\u001b[1;32m     15\u001b[0m \u001b[0mres\u001b[0m\u001b[0;34m\u001b[0m\u001b[0;34m\u001b[0m\u001b[0m\n",
      "\u001b[0;32m/usr/local/Caskroom/miniconda/base/envs/ADP/lib/python3.9/site-packages/elasticsearch/helpers/actions.py\u001b[0m in \u001b[0;36mbulk\u001b[0;34m(client, actions, stats_only, ignore_status, *args, **kwargs)\u001b[0m\n\u001b[1;32m    408\u001b[0m     \u001b[0;31m# make streaming_bulk yield successful results so we can count them\u001b[0m\u001b[0;34m\u001b[0m\u001b[0;34m\u001b[0m\u001b[0m\n\u001b[1;32m    409\u001b[0m     \u001b[0mkwargs\u001b[0m\u001b[0;34m[\u001b[0m\u001b[0;34m\"yield_ok\"\u001b[0m\u001b[0;34m]\u001b[0m \u001b[0;34m=\u001b[0m \u001b[0;32mTrue\u001b[0m\u001b[0;34m\u001b[0m\u001b[0;34m\u001b[0m\u001b[0m\n\u001b[0;32m--> 410\u001b[0;31m     for ok, item in streaming_bulk(\n\u001b[0m\u001b[1;32m    411\u001b[0m         \u001b[0mclient\u001b[0m\u001b[0;34m,\u001b[0m \u001b[0mactions\u001b[0m\u001b[0;34m,\u001b[0m \u001b[0mignore_status\u001b[0m\u001b[0;34m=\u001b[0m\u001b[0mignore_status\u001b[0m\u001b[0;34m,\u001b[0m \u001b[0;34m*\u001b[0m\u001b[0margs\u001b[0m\u001b[0;34m,\u001b[0m \u001b[0;34m**\u001b[0m\u001b[0mkwargs\u001b[0m\u001b[0;34m\u001b[0m\u001b[0;34m\u001b[0m\u001b[0m\n\u001b[1;32m    412\u001b[0m     ):\n",
      "\u001b[0;32m/usr/local/Caskroom/miniconda/base/envs/ADP/lib/python3.9/site-packages/elasticsearch/helpers/actions.py\u001b[0m in \u001b[0;36mstreaming_bulk\u001b[0;34m(client, actions, chunk_size, max_chunk_bytes, raise_on_error, expand_action_callback, raise_on_exception, max_retries, initial_backoff, max_backoff, yield_ok, ignore_status, *args, **kwargs)\u001b[0m\n\u001b[1;32m    327\u001b[0m \u001b[0;34m\u001b[0m\u001b[0m\n\u001b[1;32m    328\u001b[0m             \u001b[0;32mtry\u001b[0m\u001b[0;34m:\u001b[0m\u001b[0;34m\u001b[0m\u001b[0;34m\u001b[0m\u001b[0m\n\u001b[0;32m--> 329\u001b[0;31m                 for data, (ok, info) in zip(\n\u001b[0m\u001b[1;32m    330\u001b[0m                     \u001b[0mbulk_data\u001b[0m\u001b[0;34m,\u001b[0m\u001b[0;34m\u001b[0m\u001b[0;34m\u001b[0m\u001b[0m\n\u001b[1;32m    331\u001b[0m                     _process_bulk_chunk(\n",
      "\u001b[0;32m/usr/local/Caskroom/miniconda/base/envs/ADP/lib/python3.9/site-packages/elasticsearch/helpers/actions.py\u001b[0m in \u001b[0;36m_process_bulk_chunk\u001b[0;34m(client, bulk_actions, bulk_data, raise_on_exception, raise_on_error, ignore_status, *args, **kwargs)\u001b[0m\n\u001b[1;32m    254\u001b[0m             \u001b[0mraise_on_error\u001b[0m\u001b[0;34m=\u001b[0m\u001b[0mraise_on_error\u001b[0m\u001b[0;34m,\u001b[0m\u001b[0;34m\u001b[0m\u001b[0;34m\u001b[0m\u001b[0m\n\u001b[1;32m    255\u001b[0m         )\n\u001b[0;32m--> 256\u001b[0;31m     \u001b[0;32mfor\u001b[0m \u001b[0mitem\u001b[0m \u001b[0;32min\u001b[0m \u001b[0mgen\u001b[0m\u001b[0;34m:\u001b[0m\u001b[0;34m\u001b[0m\u001b[0;34m\u001b[0m\u001b[0m\n\u001b[0m\u001b[1;32m    257\u001b[0m         \u001b[0;32myield\u001b[0m \u001b[0mitem\u001b[0m\u001b[0;34m\u001b[0m\u001b[0;34m\u001b[0m\u001b[0m\n\u001b[1;32m    258\u001b[0m \u001b[0;34m\u001b[0m\u001b[0m\n",
      "\u001b[0;32m/usr/local/Caskroom/miniconda/base/envs/ADP/lib/python3.9/site-packages/elasticsearch/helpers/actions.py\u001b[0m in \u001b[0;36m_process_bulk_chunk_success\u001b[0;34m(resp, bulk_data, ignore_status, raise_on_error)\u001b[0m\n\u001b[1;32m    185\u001b[0m \u001b[0;34m\u001b[0m\u001b[0m\n\u001b[1;32m    186\u001b[0m     \u001b[0;32mif\u001b[0m \u001b[0merrors\u001b[0m\u001b[0;34m:\u001b[0m\u001b[0;34m\u001b[0m\u001b[0;34m\u001b[0m\u001b[0m\n\u001b[0;32m--> 187\u001b[0;31m         \u001b[0;32mraise\u001b[0m \u001b[0mBulkIndexError\u001b[0m\u001b[0;34m(\u001b[0m\u001b[0;34m\"%i document(s) failed to index.\"\u001b[0m \u001b[0;34m%\u001b[0m \u001b[0mlen\u001b[0m\u001b[0;34m(\u001b[0m\u001b[0merrors\u001b[0m\u001b[0;34m)\u001b[0m\u001b[0;34m,\u001b[0m \u001b[0merrors\u001b[0m\u001b[0;34m)\u001b[0m\u001b[0;34m\u001b[0m\u001b[0;34m\u001b[0m\u001b[0m\n\u001b[0m\u001b[1;32m    188\u001b[0m \u001b[0;34m\u001b[0m\u001b[0m\n\u001b[1;32m    189\u001b[0m \u001b[0;34m\u001b[0m\u001b[0m\n",
      "\u001b[0;31mBulkIndexError\u001b[0m: ('1 document(s) failed to index.', [{'index': {'_index': 'constantin_amazondataproject_v2', '_type': '_doc', '_id': 'NWNOUn0BVCy-8HZa6bPe', 'status': 400, 'error': {'type': 'mapper_parsing_exception', 'reason': 'failed to parse', 'caused_by': {'type': 'json_parse_exception', 'reason': \"Non-standard token 'NaN': enable JsonParser.Feature.ALLOW_NON_NUMERIC_NUMBERS to allow\\n at [Source: (ByteArrayInputStream); line: 1, column: 303]\"}}, 'data': {'marketplace': 'DE', 'customer_id': 29422633, 'review_id': 'R2MD4CKWIMSZFG', 'product_id': 'B000UTMPHC', 'product_parent': 285766066, 'product_title': 'Saw III (Unrated)', 'product_category': 'Video DVD', 'star_rating': 5, 'helpful_votes': 1, 'total_votes': 3, 'vine': False, 'verified_purchase': False, 'review_headline': nan, 'review_body': 'Hallo,  also ich freu mich schon auf die DVD von SAW 3 :)  Ist echt ein super Film mit viel gemetzel ...  und ja es gibt einen teil 4, gibt auch schon einen Trailer dazu.  Der Film soll zu Halloween in die US Kinos kommen. Teil 5 und 6 sind auch schon in planung also gibts noch viel gemetzel zu sehn *g*', 'review_date': Timestamp('2007-08-17 00:00:00')}}}])"
     ]
    }
   ],
   "source": [
    "from elasticsearch.helpers import bulk\n",
    "with open(\"../amazon_reviews_multilingual_DE_v1_00.tsv\", mode=\"r\") as f:\n",
    "    # TODO: replace this with a version of csv.DictReader\n",
    "    reader = pd.read_csv(\n",
    "        f,\n",
    "        delimiter=\"\\t\",\n",
    "        quoting=csv.QUOTE_NONE,\n",
    "        encoding=\"utf-8\",\n",
    "        chunksize=7000,\n",
    "        parse_dates=[\"review_date\"],\n",
    "        converters=converters,\n",
    "        dtype=dtypes,\n",
    "    )\n",
    "    res = bulk(client=client, index=index_name, actions=data_iterator(reader))\n",
    "res"
   ]
  },
  {
   "cell_type": "code",
   "execution_count": null,
   "id": "182fe1d9",
   "metadata": {},
   "outputs": [],
   "source": []
  }
 ],
 "metadata": {
  "jupytext": {
   "formats": "ipynb,py:percent"
  },
  "kernelspec": {
   "display_name": "Python 3 (ipykernel)",
   "language": "python",
   "name": "python3"
  },
  "language_info": {
   "codemirror_mode": {
    "name": "ipython",
    "version": 3
   },
   "file_extension": ".py",
   "mimetype": "text/x-python",
   "name": "python",
   "nbconvert_exporter": "python",
   "pygments_lexer": "ipython3",
   "version": "3.9.7"
  }
 },
 "nbformat": 4,
 "nbformat_minor": 5
}
