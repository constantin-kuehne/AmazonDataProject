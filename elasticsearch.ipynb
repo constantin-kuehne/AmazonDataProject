{
 "cells": [
  {
   "cell_type": "code",
   "execution_count": 3,
   "metadata": {},
   "outputs": [],
   "source": [
    "import elasticsearch as es\n",
    "import warnings\n",
    "warnings.filterwarnings(\"ignore\")"
   ]
  },
  {
   "cell_type": "code",
   "execution_count": 4,
   "metadata": {},
   "outputs": [],
   "source": [
    "client = es.Elasticsearch(\"http://localhost:9200/\")"
   ]
  },
  {
   "cell_type": "code",
   "execution_count": 6,
   "metadata": {},
   "outputs": [
    {
     "name": "stderr",
     "output_type": "stream",
     "text": [
      "/Users/constantinkuehne/Documents/Coding/Elastic/venv/lib/python3.9/site-packages/elasticsearch/connection/base.py:208: ElasticsearchWarning: Elasticsearch built-in security features are not enabled. Without authentication, your cluster could be accessible to anyone. See https://www.elastic.co/guide/en/elasticsearch/reference/7.14/security-minimal-setup.html to enable security.\n",
      "  warnings.warn(message, category=ElasticsearchWarning)\n"
     ]
    },
    {
     "data": {
      "text/plain": [
       "{'name': '9de85118cdd3',\n",
       " 'cluster_name': 'docker-cluster',\n",
       " 'cluster_uuid': 'jSFPUIzgRbKI30g11pxP4g',\n",
       " 'version': {'number': '7.14.2',\n",
       "  'build_flavor': 'default',\n",
       "  'build_type': 'docker',\n",
       "  'build_hash': '6bc13727ce758c0e943c3c21653b3da82f627f75',\n",
       "  'build_date': '2021-09-15T10:18:09.722761972Z',\n",
       "  'build_snapshot': False,\n",
       "  'lucene_version': '8.9.0',\n",
       "  'minimum_wire_compatibility_version': '6.8.0',\n",
       "  'minimum_index_compatibility_version': '6.0.0-beta1'},\n",
       " 'tagline': 'You Know, for Search'}"
      ]
     },
     "execution_count": 6,
     "metadata": {},
     "output_type": "execute_result"
    }
   ],
   "source": [
    "client.info()"
   ]
  },
  {
   "cell_type": "code",
   "execution_count": 14,
   "metadata": {},
   "outputs": [],
   "source": [
    "body = {\n",
    "    \"mappings\": {\n",
    "        \"properties\": {\n",
    "            \"marketplace\": { \"type\": \"keyword\" },\n",
    "            \"customer_id\": { \"type\": \"keyword\"},\n",
    "            \"review_id\": { \"type\": \"keyword\" },\n",
    "            \"product_id\": { \"type\": \"keyword\" },\n",
    "            \"product_parent\": { \"type\": \"keyword\" },\n",
    "            \"product_title\": { \"type\": \"text\" },\n",
    "            \"star_rating\": { \"type\": \"byte\" },\n",
    "            \"helpful_votes\": { \"type\": \"integer\" },\n",
    "            \"total_votes\": { \"type\": \"integer\" },\n",
    "            \"vine\": { \"type\": \"boolean\" },\n",
    "            \"verified_purchase\": { \"type\": \"boolean\" },\n",
    "            \"review_headline\": { \"type\": \"text\" },\n",
    "            \"review_body\": { \"type\": \"text\" },\n",
    "            \"review_date\": { \"type\": \"date\" }\n",
    "        }\n",
    "    }\n",
    "}"
   ]
  },
  {
   "cell_type": "code",
   "execution_count": 9,
   "metadata": {},
   "outputs": [
    {
     "name": "stderr",
     "output_type": "stream",
     "text": [
      "/Users/constantinkuehne/Documents/Coding/Elastic/venv/lib/python3.9/site-packages/elasticsearch/connection/base.py:208: ElasticsearchWarning: Elasticsearch built-in security features are not enabled. Without authentication, your cluster could be accessible to anyone. See https://www.elastic.co/guide/en/elasticsearch/reference/7.14/security-minimal-setup.html to enable security.\n",
      "  warnings.warn(message, category=ElasticsearchWarning)\n"
     ]
    },
    {
     "data": {
      "text/plain": [
       "{'acknowledged': True, 'shards_acknowledged': True, 'index': 'amazon_review'}"
      ]
     },
     "execution_count": 9,
     "metadata": {},
     "output_type": "execute_result"
    }
   ],
   "source": [
    "client.indices.create('amazon_review', body=body)"
   ]
  },
  {
   "cell_type": "code",
   "execution_count": 12,
   "metadata": {},
   "outputs": [],
   "source": [
    "body_vectors = {\n",
    "    \"mappings\": {\n",
    "        \"properties\": {\n",
    "            \"marketplace\": { \"type\": \"constant_keyword\" },\n",
    "            \"customer_id\": { \"type\": \"keyword\"},\n",
    "            \"review_id\": { \"type\": \"keyword\" },\n",
    "            \"product_id\": { \"type\": \"keyword\" },\n",
    "            \"product_parent\": { \"type\": \"keyword\" },\n",
    "            \"product_title\": { \"type\": \"dense_vector\", \"dims\": 700 },\n",
    "            \"star_rating\": { \"type\": \"byte\" },\n",
    "            \"helpful_votes\": { \"type\": \"integer\" },\n",
    "            \"total_votes\": { \"type\": \"integer\" },\n",
    "            \"vine\": { \"type\": \"boolean\" },\n",
    "            \"verified_purchase\": { \"type\": \"boolean\" },\n",
    "            \"review_headline\": { \"type\": \"dense_vector\", \"dims\": 700 },\n",
    "            \"review_body\": { \"type\": \"dense_vector\", \"dims\": 700 },\n",
    "            \"review_date\": { \"type\": \"date\" }\n",
    "        }\n",
    "    }\n",
    "}"
   ]
  },
  {
   "cell_type": "code",
   "execution_count": 13,
   "metadata": {},
   "outputs": [
    {
     "name": "stderr",
     "output_type": "stream",
     "text": [
      "/Users/constantinkuehne/Documents/Coding/Elastic/venv/lib/python3.9/site-packages/elasticsearch/connection/base.py:208: ElasticsearchWarning: Elasticsearch built-in security features are not enabled. Without authentication, your cluster could be accessible to anyone. See https://www.elastic.co/guide/en/elasticsearch/reference/7.14/security-minimal-setup.html to enable security.\n",
      "  warnings.warn(message, category=ElasticsearchWarning)\n"
     ]
    },
    {
     "data": {
      "text/plain": [
       "{'acknowledged': True,\n",
       " 'shards_acknowledged': True,\n",
       " 'index': 'amazon_review_vectors'}"
      ]
     },
     "execution_count": 13,
     "metadata": {},
     "output_type": "execute_result"
    }
   ],
   "source": [
    "client.indices.create('amazon_review_vectors', body=body_vectors)"
   ]
  },
  {
   "cell_type": "code",
   "execution_count": 5,
   "metadata": {},
   "outputs": [
    {
     "data": {
      "text/plain": [
       "{'took': 1,\n",
       " 'timed_out': False,\n",
       " '_shards': {'total': 1, 'successful': 1, 'skipped': 0, 'failed': 0},\n",
       " 'hits': {'total': {'value': 0, 'relation': 'eq'},\n",
       "  'max_score': None,\n",
       "  'hits': []}}"
      ]
     },
     "execution_count": 5,
     "metadata": {},
     "output_type": "execute_result"
    }
   ],
   "source": [
    "client.search(index=\"amazon_review\", body={\"query\": {\"match_all\": {}}})"
   ]
  },
  {
   "cell_type": "code",
   "execution_count": null,
   "metadata": {},
   "outputs": [],
   "source": []
  }
 ],
 "metadata": {
  "interpreter": {
   "hash": "f2acd9f17fc79b2705683137f26c83eb9f47b5b0fc4caf825d6f6b7648187f70"
  },
  "kernelspec": {
   "display_name": "Python 3 (ipykernel)",
   "language": "python",
   "name": "python3"
  },
  "language_info": {
   "codemirror_mode": {
    "name": "ipython",
    "version": 3
   },
   "file_extension": ".py",
   "mimetype": "text/x-python",
   "name": "python",
   "nbconvert_exporter": "python",
   "pygments_lexer": "ipython3",
   "version": "3.9.7"
  }
 },
 "nbformat": 4,
 "nbformat_minor": 2
}
